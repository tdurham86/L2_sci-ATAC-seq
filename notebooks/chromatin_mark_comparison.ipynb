{
 "cells": [
  {
   "cell_type": "code",
   "execution_count": 23,
   "metadata": {},
   "outputs": [],
   "source": [
    "%matplotlib inline\n",
    "\n",
    "import glob\n",
    "import matplotlib\n",
    "from matplotlib import pyplot\n",
    "import numpy\n",
    "import os\n",
    "import pandas\n",
    "import pyBigWig as pbw\n",
    "from scipy import stats\n",
    "import seaborn"
   ]
  },
  {
   "cell_type": "code",
   "execution_count": 4,
   "metadata": {},
   "outputs": [],
   "source": [
    "%%bash\n",
    "\n",
    "#randomly shuffle BED segments, but keep them on the same chromosome and do not allow overlaps\n",
    "bedtools shuffle -chrom -noOverlapping -seed 252 -i ./all_peaks.ce10.bed -g ATAC_sequencing/2018_worm_atac/ref_data/WS220_chromInfo.txt > ./all_peaks.ce10.shuffled.bed"
   ]
  },
  {
   "cell_type": "code",
   "execution_count": 4,
   "metadata": {},
   "outputs": [
    {
     "name": "stdout",
     "output_type": "stream",
     "text": [
      "(38017, 5)\n",
      "(38017, 5)\n"
     ]
    }
   ],
   "source": [
    "peak_coords = pandas.read_csv('./all_peaks.ce10.bed', sep='\\t', names=['chrom', 'start', 'stop', 'name', 'score'])\n",
    "print(peak_coords.shape)\n",
    "\n",
    "shuf_coords = pandas.read_csv('./all_peaks.ce10.shuffled.bed', sep='\\t', names=['chrom', 'start', 'stop', 'name', 'score'])\n",
    "print(shuf_coords.shape)"
   ]
  },
  {
   "cell_type": "markdown",
   "metadata": {},
   "source": [
    "## Analyze Janes, et al. 2018 ChIP-seq bigwigs"
   ]
  },
  {
   "cell_type": "code",
   "execution_count": 2,
   "metadata": {},
   "outputs": [],
   "source": [
    "chip_seq_paths = sorted(glob.glob('./janes2018_chip-seq/*.bw'))\n",
    "chip_seq_path_dict = {}\n",
    "for path in chip_seq_paths:\n",
    "    base_split = os.path.splitext(os.path.basename(path))[0].split('_')\n",
    "    try:\n",
    "        chip_seq_path_dict[base_split[3]][base_split[1]] = path\n",
    "    except KeyError:\n",
    "        chip_seq_path_dict[base_split[3]] = {base_split[1]:path}"
   ]
  },
  {
   "cell_type": "code",
   "execution_count": 35,
   "metadata": {},
   "outputs": [
    {
     "name": "stdout",
     "output_type": "stream",
     "text": [
      "[('H3K27me3', './janes2018_chip-seq/GSE114440_H3K27me3_wt_l2.bw'), ('H3K36me3', './janes2018_chip-seq/GSE114440_H3K36me3_wt_l2.bw'), ('H3K4me1', './janes2018_chip-seq/GSE114440_H3K4me1_wt_l2.bw'), ('H3K4me3', './janes2018_chip-seq/GSE114440_H3K4me3_wt_l2.bw')]\n"
     ]
    }
   ],
   "source": [
    "print(list(chip_seq_path_dict['l2'].items()))"
   ]
  },
  {
   "cell_type": "code",
   "execution_count": 39,
   "metadata": {},
   "outputs": [
    {
     "name": "stdout",
     "output_type": "stream",
     "text": [
      "[None]\n"
     ]
    }
   ],
   "source": [
    "with pbw.open('./janes2018_chip-seq/GSE114440_H3K4me1_wt_l2.bw') as bw_in:\n",
    "    print(numpy.nan_to_num(numpy.array(bw_in.stats('chrI', 11302859, 11303483, exact=True))))"
   ]
  },
  {
   "cell_type": "code",
   "execution_count": 40,
   "metadata": {},
   "outputs": [
    {
     "name": "stdout",
     "output_type": "stream",
     "text": [
      "H3K27me3\n",
      "H3K36me3\n",
      "H3K4me1\n",
      "H3K4me3\n",
      "(38017, 18)\n"
     ]
    },
    {
     "data": {
      "text/html": [
       "<div>\n",
       "<style scoped>\n",
       "    .dataframe tbody tr th:only-of-type {\n",
       "        vertical-align: middle;\n",
       "    }\n",
       "\n",
       "    .dataframe tbody tr th {\n",
       "        vertical-align: top;\n",
       "    }\n",
       "\n",
       "    .dataframe thead th {\n",
       "        text-align: right;\n",
       "    }\n",
       "</style>\n",
       "<table border=\"1\" class=\"dataframe\">\n",
       "  <thead>\n",
       "    <tr style=\"text-align: right;\">\n",
       "      <th></th>\n",
       "      <th>chrom</th>\n",
       "      <th>start</th>\n",
       "      <th>stop</th>\n",
       "      <th>name</th>\n",
       "      <th>score</th>\n",
       "      <th>janes_H3K27me3_mean</th>\n",
       "      <th>janes_H3K27me3_chrom_mean</th>\n",
       "      <th>janes_H3K36me3_mean</th>\n",
       "      <th>janes_H3K36me3_chrom_mean</th>\n",
       "      <th>janes_H3K4me1_mean</th>\n",
       "      <th>janes_H3K4me1_chrom_mean</th>\n",
       "      <th>janes_H3K4me3_mean</th>\n",
       "      <th>janes_H3K4me3_chrom_mean</th>\n",
       "      <th>janes_H3K4me3_log2</th>\n",
       "      <th>janes_H3K27me3_log2</th>\n",
       "      <th>janes_H3K36me3_log2</th>\n",
       "      <th>janes_H3K4me1_log2</th>\n",
       "      <th>shuffled</th>\n",
       "    </tr>\n",
       "  </thead>\n",
       "  <tbody>\n",
       "    <tr>\n",
       "      <th>0</th>\n",
       "      <td>chrI</td>\n",
       "      <td>3328</td>\n",
       "      <td>4211</td>\n",
       "      <td>peak2</td>\n",
       "      <td>1904.209526</td>\n",
       "      <td>-0.824468</td>\n",
       "      <td>-0.213828</td>\n",
       "      <td>-0.271050</td>\n",
       "      <td>0.153739</td>\n",
       "      <td>1.470828</td>\n",
       "      <td>0.134277</td>\n",
       "      <td>1.755626</td>\n",
       "      <td>0.310139</td>\n",
       "      <td>0.517339</td>\n",
       "      <td>-0.587702</td>\n",
       "      <td>-0.462546</td>\n",
       "      <td>0.435142</td>\n",
       "      <td>False</td>\n",
       "    </tr>\n",
       "    <tr>\n",
       "      <th>1</th>\n",
       "      <td>chrI</td>\n",
       "      <td>4233</td>\n",
       "      <td>4548</td>\n",
       "      <td>peak3</td>\n",
       "      <td>0.000000</td>\n",
       "      <td>-0.823055</td>\n",
       "      <td>-0.213828</td>\n",
       "      <td>0.070304</td>\n",
       "      <td>0.153739</td>\n",
       "      <td>1.817670</td>\n",
       "      <td>0.134277</td>\n",
       "      <td>2.473857</td>\n",
       "      <td>0.310139</td>\n",
       "      <td>0.718634</td>\n",
       "      <td>-0.586023</td>\n",
       "      <td>-0.079898</td>\n",
       "      <td>0.529472</td>\n",
       "      <td>False</td>\n",
       "    </tr>\n",
       "    <tr>\n",
       "      <th>2</th>\n",
       "      <td>chrI</td>\n",
       "      <td>10923</td>\n",
       "      <td>11895</td>\n",
       "      <td>peak6a</td>\n",
       "      <td>306.134972</td>\n",
       "      <td>-0.208915</td>\n",
       "      <td>-0.213828</td>\n",
       "      <td>-0.284752</td>\n",
       "      <td>0.153739</td>\n",
       "      <td>0.368592</td>\n",
       "      <td>0.134277</td>\n",
       "      <td>0.810488</td>\n",
       "      <td>0.310139</td>\n",
       "      <td>0.200752</td>\n",
       "      <td>0.003878</td>\n",
       "      <td>-0.480243</td>\n",
       "      <td>0.086401</td>\n",
       "      <td>False</td>\n",
       "    </tr>\n",
       "    <tr>\n",
       "      <th>3</th>\n",
       "      <td>chrI</td>\n",
       "      <td>11896</td>\n",
       "      <td>12053</td>\n",
       "      <td>peak6b</td>\n",
       "      <td>0.000000</td>\n",
       "      <td>-0.473685</td>\n",
       "      <td>-0.213828</td>\n",
       "      <td>-0.239977</td>\n",
       "      <td>0.153739</td>\n",
       "      <td>0.678105</td>\n",
       "      <td>0.134277</td>\n",
       "      <td>1.590916</td>\n",
       "      <td>0.310139</td>\n",
       "      <td>0.466931</td>\n",
       "      <td>-0.221603</td>\n",
       "      <td>-0.423200</td>\n",
       "      <td>0.193132</td>\n",
       "      <td>False</td>\n",
       "    </tr>\n",
       "    <tr>\n",
       "      <th>4</th>\n",
       "      <td>chrI</td>\n",
       "      <td>12244</td>\n",
       "      <td>12700</td>\n",
       "      <td>peak7a</td>\n",
       "      <td>0.000000</td>\n",
       "      <td>-0.261322</td>\n",
       "      <td>-0.213828</td>\n",
       "      <td>-0.235180</td>\n",
       "      <td>0.153739</td>\n",
       "      <td>0.360625</td>\n",
       "      <td>0.134277</td>\n",
       "      <td>1.291209</td>\n",
       "      <td>0.310139</td>\n",
       "      <td>0.370429</td>\n",
       "      <td>-0.038042</td>\n",
       "      <td>-0.417219</td>\n",
       "      <td>0.083546</td>\n",
       "      <td>False</td>\n",
       "    </tr>\n",
       "  </tbody>\n",
       "</table>\n",
       "</div>"
      ],
      "text/plain": [
       "  chrom  start   stop    name        score  janes_H3K27me3_mean  \\\n",
       "0  chrI   3328   4211   peak2  1904.209526            -0.824468   \n",
       "1  chrI   4233   4548   peak3     0.000000            -0.823055   \n",
       "2  chrI  10923  11895  peak6a   306.134972            -0.208915   \n",
       "3  chrI  11896  12053  peak6b     0.000000            -0.473685   \n",
       "4  chrI  12244  12700  peak7a     0.000000            -0.261322   \n",
       "\n",
       "   janes_H3K27me3_chrom_mean  janes_H3K36me3_mean  janes_H3K36me3_chrom_mean  \\\n",
       "0                  -0.213828            -0.271050                   0.153739   \n",
       "1                  -0.213828             0.070304                   0.153739   \n",
       "2                  -0.213828            -0.284752                   0.153739   \n",
       "3                  -0.213828            -0.239977                   0.153739   \n",
       "4                  -0.213828            -0.235180                   0.153739   \n",
       "\n",
       "   janes_H3K4me1_mean  janes_H3K4me1_chrom_mean  janes_H3K4me3_mean  \\\n",
       "0            1.470828                  0.134277            1.755626   \n",
       "1            1.817670                  0.134277            2.473857   \n",
       "2            0.368592                  0.134277            0.810488   \n",
       "3            0.678105                  0.134277            1.590916   \n",
       "4            0.360625                  0.134277            1.291209   \n",
       "\n",
       "   janes_H3K4me3_chrom_mean  janes_H3K4me3_log2  janes_H3K27me3_log2  \\\n",
       "0                  0.310139            0.517339            -0.587702   \n",
       "1                  0.310139            0.718634            -0.586023   \n",
       "2                  0.310139            0.200752             0.003878   \n",
       "3                  0.310139            0.466931            -0.221603   \n",
       "4                  0.310139            0.370429            -0.038042   \n",
       "\n",
       "   janes_H3K36me3_log2  janes_H3K4me1_log2  shuffled  \n",
       "0            -0.462546            0.435142     False  \n",
       "1            -0.079898            0.529472     False  \n",
       "2            -0.480243            0.086401     False  \n",
       "3            -0.423200            0.193132     False  \n",
       "4            -0.417219            0.083546     False  "
      ]
     },
     "execution_count": 40,
     "metadata": {},
     "output_type": "execute_result"
    }
   ],
   "source": [
    "for mark, path in chip_seq_path_dict['l2'].items():\n",
    "    print(mark)\n",
    "    with pbw.open(path) as bw_in:\n",
    "        chrom_means = {k:numpy.nan_to_num(bw_in.stats(k, 0, v))[0] for k,v in bw_in.chroms().items()}\n",
    "        peak_coords['janes_{!s}_mean'.format(mark)] = [elt if elt is not None else 0 for elt in \n",
    "                                                       [numpy.nan_to_num(bw_in.stats(peak_coords.loc[idx, 'chrom'], \n",
    "                                                                         peak_coords.loc[idx, 'start'],\n",
    "                                                                         peak_coords.loc[idx, 'stop'], exact=True))[0]\n",
    "                                                        for idx in range(peak_coords.shape[0])]]\n",
    "        peak_coords['janes_{!s}_chrom_mean'.format(mark)] = [chrom_means[elt] for elt in peak_coords['chrom'].to_numpy()]\n",
    "        shuf_coords['janes_{!s}_mean'.format(mark)] = [elt if elt is not None else 0 for elt in \n",
    "                                                       [numpy.nan_to_num(bw_in.stats(shuf_coords.loc[idx, 'chrom'], \n",
    "                                                                         shuf_coords.loc[idx, 'start'],\n",
    "                                                                         shuf_coords.loc[idx, 'stop'], exact=True))[0]\n",
    "                                                        for idx in range(shuf_coords.shape[0])]]\n",
    "        shuf_coords['janes_{!s}_chrom_mean'.format(mark)] = [chrom_means[elt] for elt in shuf_coords['chrom'].to_numpy()]\n",
    "print(peak_coords.shape)\n",
    "peak_coords.head()"
   ]
  },
  {
   "cell_type": "code",
   "execution_count": 41,
   "metadata": {},
   "outputs": [],
   "source": [
    "adj = abs(numpy.min(peak_coords[['janes_H3K4me3_mean', 'janes_H3K4me3_chrom_mean']].to_numpy())) + 1\n",
    "peak_coords['janes_H3K4me3_log2'] = numpy.log2((peak_coords['janes_H3K4me3_mean'] + adj)\n",
    "                                               /(peak_coords['janes_H3K4me3_chrom_mean'] + adj))\n",
    "adj = abs(numpy.min(peak_coords[['janes_H3K27me3_mean', 'janes_H3K27me3_chrom_mean']].to_numpy())) + 1\n",
    "peak_coords['janes_H3K27me3_log2'] = numpy.log2((peak_coords['janes_H3K27me3_mean'] + adj)\n",
    "                                                /(peak_coords['janes_H3K27me3_chrom_mean'] + adj))\n",
    "adj = abs(numpy.min(peak_coords[['janes_H3K36me3_mean', 'janes_H3K36me3_chrom_mean']].to_numpy())) + 1\n",
    "peak_coords['janes_H3K36me3_log2'] = numpy.log2((peak_coords['janes_H3K36me3_mean'] + adj)\n",
    "                                                /(peak_coords['janes_H3K36me3_chrom_mean'] + adj))\n",
    "adj = abs(numpy.min(peak_coords[['janes_H3K4me1_mean', 'janes_H3K4me1_chrom_mean']].to_numpy())) + 1\n",
    "peak_coords['janes_H3K4me1_log2'] = numpy.log2((peak_coords['janes_H3K4me1_mean'] + adj)\n",
    "                                               /(peak_coords['janes_H3K4me1_chrom_mean'] + adj))"
   ]
  },
  {
   "cell_type": "code",
   "execution_count": 42,
   "metadata": {},
   "outputs": [
    {
     "name": "stdout",
     "output_type": "stream",
     "text": [
      "3.662271558245023\n"
     ]
    }
   ],
   "source": [
    "print(adj)"
   ]
  },
  {
   "cell_type": "code",
   "execution_count": 43,
   "metadata": {},
   "outputs": [],
   "source": [
    "adj = abs(numpy.min(numpy.nan_to_num(shuf_coords[['janes_H3K4me3_mean', 'janes_H3K4me3_chrom_mean']].to_numpy()))) + 1\n",
    "shuf_coords['janes_H3K4me3_log2'] = numpy.log2((shuf_coords['janes_H3K4me3_mean'] + adj)\n",
    "                                               /(shuf_coords['janes_H3K4me3_chrom_mean'] + adj))\n",
    "adj = abs(numpy.min(numpy.nan_to_num(shuf_coords[['janes_H3K27me3_mean', 'janes_H3K27me3_chrom_mean']].to_numpy()))) + 1\n",
    "shuf_coords['janes_H3K27me3_log2'] = numpy.log2((shuf_coords['janes_H3K27me3_mean'] + adj)\n",
    "                                                /(shuf_coords['janes_H3K27me3_chrom_mean'] + adj))\n",
    "adj = abs(numpy.min(numpy.nan_to_num(shuf_coords[['janes_H3K36me3_mean', 'janes_H3K36me3_chrom_mean']].to_numpy()))) + 1\n",
    "shuf_coords['janes_H3K36me3_log2'] = numpy.log2((shuf_coords['janes_H3K36me3_mean'] + adj)\n",
    "                                                /(shuf_coords['janes_H3K36me3_chrom_mean'] + adj))\n",
    "adj = abs(numpy.min(numpy.nan_to_num(shuf_coords[['janes_H3K4me1_mean', 'janes_H3K4me1_chrom_mean']].to_numpy()))) + 1\n",
    "shuf_coords['janes_H3K4me1_log2'] = numpy.log2((shuf_coords['janes_H3K4me1_mean'] + adj)\n",
    "                                               /(shuf_coords['janes_H3K4me1_chrom_mean'] + adj))"
   ]
  },
  {
   "cell_type": "code",
   "execution_count": 44,
   "metadata": {},
   "outputs": [
    {
     "data": {
      "image/png": "[encoded data removed]",
      "text/plain": [
       "<Figure size 720x576 with 2 Axes>"
      ]
     },
     "metadata": {
      "needs_background": "light"
     },
     "output_type": "display_data"
    }
   ],
   "source": [
    "fig, axes = pyplot.subplots(nrows=2, ncols=1, figsize=(10,8), sharey=True)\n",
    "axes[0].axhline(0, linestyle='dotted', color='k')\n",
    "seaborn.violinplot(data=peak_coords[['janes_H3K4me3_log2', 'janes_H3K4me1_log2', \n",
    "                                     'janes_H3K36me3_log2', 'janes_H3K27me3_log2']], ax=axes[0])\n",
    "#seaborn.violinplot(x=0, y=peak_coords['h3k4me3_mean'], ax=axes[0])\n",
    "#seaborn.violinplot(x=1, y=peak_coords['h3k4me1_mean'], ax=axes[0])\n",
    "#seaborn.violinplot(x=2, y=peak_coords['h3k27ac_mean'], ax=axes[0])\n",
    "#seaborn.violinplot(x=3, y=peak_coords['h3k27me3_mean'], ax=axes[0])\n",
    "#seaborn.violinplot(x=4, y=peak_coords['h3k9me3_mean'], ax=axes[0])\n",
    "axes[0].set_ylabel('Mean ChIP-seq signal over peaks')\n",
    "axes[0].set_xticks(numpy.arange(5))\n",
    "axes[0].set_xticklabels(['H3K4me3', 'H3K4me1', 'H3K36me3', 'H3K27me3'], ha='right', rotation=45)\n",
    "\n",
    "axes[1].axhline(0, linestyle='dotted', color='k')\n",
    "seaborn.violinplot(data=shuf_coords[['janes_H3K4me3_log2', 'janes_H3K4me1_log2', \n",
    "                                     'janes_H3K36me3_log2', 'janes_H3K27me3_log2']], ax=axes[1])\n",
    "#seaborn.violinplot(x=0, y=shuf_coords['h3k4me3_mean'], ax=axes[1])\n",
    "#seaborn.violinplot(x=1, y=shuf_coords['h3k4me1_mean'], ax=axes[1])\n",
    "#seaborn.violinplot(x=2, y=shuf_coords['h3k27ac_mean'], ax=axes[1])\n",
    "#seaborn.violinplot(x=3, y=shuf_coords['h3k27me3_mean'], ax=axes[1])\n",
    "#seaborn.violinplot(x=4, y=shuf_coords['h3k9me3_mean'], ax=axes[1])\n",
    "axes[1].set_ylabel('Mean ChIP-seq signal over shuffled peaks')\n",
    "axes[1].set_xticks(numpy.arange(5))\n",
    "axes[1].set_xticklabels(['H3K4me3', 'H3K4me1', 'H3K36me3', 'H3K27me3'], ha='right', rotation=45)\n",
    "\n",
    "fig.tight_layout()"
   ]
  },
  {
   "cell_type": "code",
   "execution_count": 45,
   "metadata": {},
   "outputs": [
    {
     "data": {
      "text/html": [
       "<div>\n",
       "<style scoped>\n",
       "    .dataframe tbody tr th:only-of-type {\n",
       "        vertical-align: middle;\n",
       "    }\n",
       "\n",
       "    .dataframe tbody tr th {\n",
       "        vertical-align: top;\n",
       "    }\n",
       "\n",
       "    .dataframe thead th {\n",
       "        text-align: right;\n",
       "    }\n",
       "</style>\n",
       "<table border=\"1\" class=\"dataframe\">\n",
       "  <thead>\n",
       "    <tr style=\"text-align: right;\">\n",
       "      <th></th>\n",
       "      <th>name</th>\n",
       "      <th>shuffled</th>\n",
       "      <th>variable</th>\n",
       "      <th>value</th>\n",
       "    </tr>\n",
       "  </thead>\n",
       "  <tbody>\n",
       "    <tr>\n",
       "      <th>0</th>\n",
       "      <td>peak2</td>\n",
       "      <td>False</td>\n",
       "      <td>janes_H3K4me3_log2</td>\n",
       "      <td>0.517339</td>\n",
       "    </tr>\n",
       "    <tr>\n",
       "      <th>1</th>\n",
       "      <td>peak3</td>\n",
       "      <td>False</td>\n",
       "      <td>janes_H3K4me3_log2</td>\n",
       "      <td>0.718634</td>\n",
       "    </tr>\n",
       "    <tr>\n",
       "      <th>2</th>\n",
       "      <td>peak6a</td>\n",
       "      <td>False</td>\n",
       "      <td>janes_H3K4me3_log2</td>\n",
       "      <td>0.200752</td>\n",
       "    </tr>\n",
       "    <tr>\n",
       "      <th>3</th>\n",
       "      <td>peak6b</td>\n",
       "      <td>False</td>\n",
       "      <td>janes_H3K4me3_log2</td>\n",
       "      <td>0.466931</td>\n",
       "    </tr>\n",
       "    <tr>\n",
       "      <th>4</th>\n",
       "      <td>peak7a</td>\n",
       "      <td>False</td>\n",
       "      <td>janes_H3K4me3_log2</td>\n",
       "      <td>0.370429</td>\n",
       "    </tr>\n",
       "  </tbody>\n",
       "</table>\n",
       "</div>"
      ],
      "text/plain": [
       "     name  shuffled            variable     value\n",
       "0   peak2     False  janes_H3K4me3_log2  0.517339\n",
       "1   peak3     False  janes_H3K4me3_log2  0.718634\n",
       "2  peak6a     False  janes_H3K4me3_log2  0.200752\n",
       "3  peak6b     False  janes_H3K4me3_log2  0.466931\n",
       "4  peak7a     False  janes_H3K4me3_log2  0.370429"
      ]
     },
     "execution_count": 45,
     "metadata": {},
     "output_type": "execute_result"
    }
   ],
   "source": [
    "to_plot.head()"
   ]
  },
  {
   "cell_type": "code",
   "execution_count": 12,
   "metadata": {},
   "outputs": [
    {
     "data": {
      "text/html": [
       "<div>\n",
       "<style scoped>\n",
       "    .dataframe tbody tr th:only-of-type {\n",
       "        vertical-align: middle;\n",
       "    }\n",
       "\n",
       "    .dataframe tbody tr th {\n",
       "        vertical-align: top;\n",
       "    }\n",
       "\n",
       "    .dataframe thead th {\n",
       "        text-align: right;\n",
       "    }\n",
       "</style>\n",
       "<table border=\"1\" class=\"dataframe\">\n",
       "  <thead>\n",
       "    <tr style=\"text-align: right;\">\n",
       "      <th></th>\n",
       "      <th>name</th>\n",
       "      <th>shuffled</th>\n",
       "      <th>variable</th>\n",
       "      <th>value</th>\n",
       "    </tr>\n",
       "  </thead>\n",
       "  <tbody>\n",
       "    <tr>\n",
       "      <th>0</th>\n",
       "      <td>peak2</td>\n",
       "      <td>False</td>\n",
       "      <td>janes_H3K4me3_log2</td>\n",
       "      <td>0.517339</td>\n",
       "    </tr>\n",
       "    <tr>\n",
       "      <th>1</th>\n",
       "      <td>peak3</td>\n",
       "      <td>False</td>\n",
       "      <td>janes_H3K4me3_log2</td>\n",
       "      <td>0.718634</td>\n",
       "    </tr>\n",
       "    <tr>\n",
       "      <th>2</th>\n",
       "      <td>peak6a</td>\n",
       "      <td>False</td>\n",
       "      <td>janes_H3K4me3_log2</td>\n",
       "      <td>0.200752</td>\n",
       "    </tr>\n",
       "    <tr>\n",
       "      <th>3</th>\n",
       "      <td>peak6b</td>\n",
       "      <td>False</td>\n",
       "      <td>janes_H3K4me3_log2</td>\n",
       "      <td>0.466931</td>\n",
       "    </tr>\n",
       "    <tr>\n",
       "      <th>4</th>\n",
       "      <td>peak7a</td>\n",
       "      <td>False</td>\n",
       "      <td>janes_H3K4me3_log2</td>\n",
       "      <td>0.370429</td>\n",
       "    </tr>\n",
       "  </tbody>\n",
       "</table>\n",
       "</div>"
      ],
      "text/plain": [
       "     name  shuffled            variable     value\n",
       "0   peak2     False  janes_H3K4me3_log2  0.517339\n",
       "1   peak3     False  janes_H3K4me3_log2  0.718634\n",
       "2  peak6a     False  janes_H3K4me3_log2  0.200752\n",
       "3  peak6b     False  janes_H3K4me3_log2  0.466931\n",
       "4  peak7a     False  janes_H3K4me3_log2  0.370429"
      ]
     },
     "execution_count": 12,
     "metadata": {},
     "output_type": "execute_result"
    }
   ],
   "source": [
    "to_plot.melt(id_vars=['name', 'shuffled'], \n",
    "             value_vars=['janes_H3K4me3_log2', 'janes_H3K4me1_log2', \n",
    "                         'janes_H3K36me3_log2', 'janes_H3K27me3_log2']).head()"
   ]
  },
  {
   "cell_type": "code",
   "execution_count": 26,
   "metadata": {},
   "outputs": [
    {
     "data": {
      "text/html": [
       "<div>\n",
       "<style scoped>\n",
       "    .dataframe tbody tr th:only-of-type {\n",
       "        vertical-align: middle;\n",
       "    }\n",
       "\n",
       "    .dataframe tbody tr th {\n",
       "        vertical-align: top;\n",
       "    }\n",
       "\n",
       "    .dataframe thead th {\n",
       "        text-align: right;\n",
       "    }\n",
       "</style>\n",
       "<table border=\"1\" class=\"dataframe\">\n",
       "  <thead>\n",
       "    <tr style=\"text-align: right;\">\n",
       "      <th></th>\n",
       "      <th>name</th>\n",
       "      <th>shuffled</th>\n",
       "      <th>variable</th>\n",
       "      <th>value</th>\n",
       "    </tr>\n",
       "  </thead>\n",
       "  <tbody>\n",
       "    <tr>\n",
       "      <th>38116</th>\n",
       "      <td>peak164b</td>\n",
       "      <td>True</td>\n",
       "      <td>janes_H3K4me3_log2</td>\n",
       "      <td>NaN</td>\n",
       "    </tr>\n",
       "    <tr>\n",
       "      <th>38210</th>\n",
       "      <td>peak301</td>\n",
       "      <td>True</td>\n",
       "      <td>janes_H3K4me3_log2</td>\n",
       "      <td>NaN</td>\n",
       "    </tr>\n",
       "    <tr>\n",
       "      <th>38259</th>\n",
       "      <td>peak385</td>\n",
       "      <td>True</td>\n",
       "      <td>janes_H3K4me3_log2</td>\n",
       "      <td>NaN</td>\n",
       "    </tr>\n",
       "    <tr>\n",
       "      <th>38377</th>\n",
       "      <td>peak533</td>\n",
       "      <td>True</td>\n",
       "      <td>janes_H3K4me3_log2</td>\n",
       "      <td>NaN</td>\n",
       "    </tr>\n",
       "    <tr>\n",
       "      <th>38585</th>\n",
       "      <td>peak820</td>\n",
       "      <td>True</td>\n",
       "      <td>janes_H3K4me3_log2</td>\n",
       "      <td>NaN</td>\n",
       "    </tr>\n",
       "  </tbody>\n",
       "</table>\n",
       "</div>"
      ],
      "text/plain": [
       "           name  shuffled            variable  value\n",
       "38116  peak164b      True  janes_H3K4me3_log2    NaN\n",
       "38210   peak301      True  janes_H3K4me3_log2    NaN\n",
       "38259   peak385      True  janes_H3K4me3_log2    NaN\n",
       "38377   peak533      True  janes_H3K4me3_log2    NaN\n",
       "38585   peak820      True  janes_H3K4me3_log2    NaN"
      ]
     },
     "execution_count": 26,
     "metadata": {},
     "output_type": "execute_result"
    }
   ],
   "source": [
    "to_plot[to_plot['value'].isnull()].head()"
   ]
  },
  {
   "cell_type": "code",
   "execution_count": 47,
   "metadata": {
    "scrolled": true
   },
   "outputs": [
    {
     "data": {
      "text/html": [
       "<div>\n",
       "<style scoped>\n",
       "    .dataframe tbody tr th:only-of-type {\n",
       "        vertical-align: middle;\n",
       "    }\n",
       "\n",
       "    .dataframe tbody tr th {\n",
       "        vertical-align: top;\n",
       "    }\n",
       "\n",
       "    .dataframe thead th {\n",
       "        text-align: right;\n",
       "    }\n",
       "</style>\n",
       "<table border=\"1\" class=\"dataframe\">\n",
       "  <thead>\n",
       "    <tr style=\"text-align: right;\">\n",
       "      <th></th>\n",
       "      <th>chrom</th>\n",
       "      <th>start</th>\n",
       "      <th>stop</th>\n",
       "      <th>name</th>\n",
       "      <th>score</th>\n",
       "      <th>janes_H3K27me3_mean</th>\n",
       "      <th>janes_H3K27me3_chrom_mean</th>\n",
       "      <th>janes_H3K36me3_mean</th>\n",
       "      <th>janes_H3K36me3_chrom_mean</th>\n",
       "      <th>janes_H3K4me1_mean</th>\n",
       "      <th>janes_H3K4me1_chrom_mean</th>\n",
       "      <th>janes_H3K4me3_mean</th>\n",
       "      <th>janes_H3K4me3_chrom_mean</th>\n",
       "      <th>janes_H3K4me3_log2</th>\n",
       "      <th>janes_H3K27me3_log2</th>\n",
       "      <th>janes_H3K36me3_log2</th>\n",
       "      <th>janes_H3K4me1_log2</th>\n",
       "      <th>shuffled</th>\n",
       "    </tr>\n",
       "  </thead>\n",
       "  <tbody>\n",
       "  </tbody>\n",
       "</table>\n",
       "</div>"
      ],
      "text/plain": [
       "Empty DataFrame\n",
       "Columns: [chrom, start, stop, name, score, janes_H3K27me3_mean, janes_H3K27me3_chrom_mean, janes_H3K36me3_mean, janes_H3K36me3_chrom_mean, janes_H3K4me1_mean, janes_H3K4me1_chrom_mean, janes_H3K4me3_mean, janes_H3K4me3_chrom_mean, janes_H3K4me3_log2, janes_H3K27me3_log2, janes_H3K36me3_log2, janes_H3K4me1_log2, shuffled]\n",
       "Index: []"
      ]
     },
     "execution_count": 47,
     "metadata": {},
     "output_type": "execute_result"
    }
   ],
   "source": [
    "shuf_coords[shuf_coords['janes_H3K4me3_log2'].isnull()].head()"
   ]
  },
  {
   "cell_type": "code",
   "execution_count": 49,
   "metadata": {},
   "outputs": [
    {
     "name": "stdout",
     "output_type": "stream",
     "text": [
      "janes_H3K4me3_log2 -137.24872846073333 0.0\n",
      "janes_H3K4me1_log2 -131.63646768015568 0.0\n",
      "janes_H3K36me3_log2 17.480400512538356 2.7606266871584307e-68\n",
      "janes_H3K27me3_log2 62.46618318992675 0.0\n"
     ]
    },
    {
     "data": {
      "image/png": "[encoded data removed]",
      "text/plain": [
       "<Figure size 576x576 with 1 Axes>"
      ]
     },
     "metadata": {
      "needs_background": "light"
     },
     "output_type": "display_data"
    }
   ],
   "source": [
    "peak_coords['shuffled'] = False\n",
    "shuf_coords['shuffled'] = True\n",
    "cols_to_plot = ['janes_H3K4me3_log2', 'janes_H3K4me1_log2', 'janes_H3K36me3_log2', 'janes_H3K27me3_log2']\n",
    "to_plot = pandas.concat([peak_coords, shuf_coords]).melt(id_vars=['name', 'shuffled'],\n",
    "                                                         value_vars=cols_to_plot)\n",
    "\n",
    "fig, axes = pyplot.subplots(nrows=1, ncols=1, figsize=(8,8), sharey=True)\n",
    "seaborn.violinplot(data=to_plot, x='variable', y='value',\n",
    "                   hue='shuffled', order=cols_to_plot, split=True, inner='quart', linewidth=1, ax=axes)\n",
    "#axes.axhline(0, linestyle='dotted', color='k')\n",
    "axes.axhline(0, linewidth=1, color='k', zorder=-5)\n",
    "axes.set_ylabel('Mean ChIP-seq signal over peaks', fontsize=16)\n",
    "axes.set_yticklabels(axes.get_yticks(), fontsize=14)\n",
    "axes.set_xticks(numpy.arange(4))\n",
    "axes.set_xticklabels(['H3K4me3', 'H3K4me1', 'H3K36me3', 'H3K27me3'], ha='right', rotation=45, fontsize=14)\n",
    "axes.set_xlabel('')\n",
    "\n",
    "for idx, col_val in enumerate(cols_to_plot):\n",
    "    (t_stat, pval) = stats.ttest_ind(to_plot[(to_plot['variable'] == col_val) & to_plot['shuffled']]['value'], \n",
    "                                     to_plot[(to_plot['variable'] == col_val) & ~to_plot['shuffled']]['value'], \n",
    "                                     equal_var=False)\n",
    "    print(col_val, t_stat, pval)\n",
    "#    if pval < 0.0001:\n",
    "#        axes.text(idx, to_plot['value'].max(), '****', fontsize=12, color='k')\n",
    "#    elif pval < 0.001:\n",
    "#        axes.text(idx, to_plot['value'].max(), '***', fontsize=12, color='k')\n",
    "#    elif pval < 0.01:\n",
    "#        axes.text(idx, to_plot['value'].max(), '**', fontsize=12, color='k')\n",
    "#    elif pval < 0.05:\n",
    "#        axes.text(idx, to_plot['value'].max(), '*', fontsize=12, color='k')\n",
    "\n",
    "fig.savefig('./chromatin_mark_comparison.pdf', bbox_inches='tight')\n",
    "fig.tight_layout()"
   ]
  },
  {
   "cell_type": "code",
   "execution_count": null,
   "metadata": {},
   "outputs": [],
   "source": []
  }
 ],
 "metadata": {
  "kernelspec": {
   "display_name": "Python 3",
   "language": "python",
   "name": "python3"
  },
  "language_info": {
   "codemirror_mode": {
    "name": "ipython",
    "version": 3
   },
   "file_extension": ".py",
   "mimetype": "text/x-python",
   "name": "python",
   "nbconvert_exporter": "python",
   "pygments_lexer": "ipython3",
   "version": "3.7.6"
  }
 },
 "nbformat": 4,
 "nbformat_minor": 4
}
